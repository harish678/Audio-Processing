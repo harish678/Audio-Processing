{
  "nbformat": 4,
  "nbformat_minor": 0,
  "metadata": {
    "colab": {
      "name": "Music Genre Classifier.ipynb",
      "version": "0.3.2",
      "provenance": [],
      "collapsed_sections": [],
      "toc_visible": true,
      "include_colab_link": true
    },
    "kernelspec": {
      "name": "python3",
      "display_name": "Python 3"
    },
    "accelerator": "TPU"
  },
  "cells": [
    {
      "cell_type": "markdown",
      "metadata": {
        "id": "view-in-github",
        "colab_type": "text"
      },
      "source": [
        "<a href=\"https://colab.research.google.com/github/harish678/Audio-Processing/blob/master/Music_Genre_Classifier.ipynb\" target=\"_parent\"><img src=\"https://colab.research.google.com/assets/colab-badge.svg\" alt=\"Open In Colab\"/></a>"
      ]
    },
    {
      "metadata": {
        "id": "cNnM2w-HCeb1",
        "colab_type": "text"
      },
      "cell_type": "markdown",
      "source": [
        "# Music genre classification notebook"
      ]
    },
    {
      "metadata": {
        "id": "2l3sppZMCydR",
        "colab_type": "text"
      },
      "cell_type": "markdown",
      "source": [
        "## Importing Libraries"
      ]
    },
    {
      "metadata": {
        "id": "Gt3fyg6dCNvX",
        "colab_type": "code",
        "colab": {}
      },
      "cell_type": "code",
      "source": [
        "# feature extractoring and preprocessing data\n",
        "import librosa\n",
        "import pandas as pd\n",
        "import numpy as np\n",
        "import matplotlib.pyplot as plt\n",
        "%matplotlib inline\n",
        "\n",
        "# Preprocessing\n",
        "from sklearn.model_selection import train_test_split\n",
        "from sklearn.preprocessing import LabelEncoder, StandardScaler\n",
        "\n",
        "import warnings\n",
        "warnings.filterwarnings('ignore')\n",
        "warnings.filterwarnings(\"ignore\", category=DeprecationWarning) "
      ],
      "execution_count": 0,
      "outputs": []
    },
    {
      "metadata": {
        "id": "DPe_ebYuDqr5",
        "colab_type": "text"
      },
      "cell_type": "markdown",
      "source": [
        "## Extracting music and features\n",
        "\n",
        "### Dataset\n",
        "\n",
        "We use [GTZAN genre collection](http://opihi.cs.uvic.ca/sound/genres.tar.gz) dataset for classification. \n",
        "<br>\n",
        "<br>\n",
        "The dataset consists of 10 genres i.e\n",
        " * Blues\n",
        " * Classical\n",
        " * Country\n",
        " * Disco\n",
        " * Hiphop\n",
        " * Jazz\n",
        " * Metal\n",
        " * Pop\n",
        " * Reggae\n",
        " * Rock\n",
        " \n",
        "Each genre contains 100 songs. Total dataset: 1000 songs"
      ]
    },
    {
      "metadata": {
        "id": "AfBSVfRCD3PE",
        "colab_type": "text"
      },
      "cell_type": "markdown",
      "source": [
        "## Extracting the Spectrogram for every Audio"
      ]
    },
    {
      "metadata": {
        "id": "BHh3pTEVDdrT",
        "colab_type": "code",
        "colab": {}
      },
      "cell_type": "code",
      "source": [
        "cmap = plt.get_cmap('inferno')\n",
        "\n",
        "plt.figure(figsize=(10,10))\n",
        "genres = 'blues classical country disco hiphop jazz metal pop reggae rock'.split()\n",
        "for g in genres:\n",
        "    pathlib.Path(f'img_data/{g}').mkdir(parents=True, exist_ok=True)     \n",
        "    for filename in os.listdir(f'./MIR/genres/{g}'):\n",
        "        songname = f'./MIR/genres/{g}/{filename}'\n",
        "        y, sr = librosa.load(songname, mono=True, duration=5)\n",
        "        plt.specgram(y, NFFT=2048, Fs=2, Fc=0, noverlap=128, cmap=cmap, sides='default', mode='default', scale='dB');\n",
        "        plt.axis('off');\n",
        "        plt.savefig(f'img_data/{g}/{filename[:-3].replace(\".\", \"\")}.png')\n",
        "        plt.clf()\n",
        " "
      ],
      "execution_count": 0,
      "outputs": []
    },
    {
      "metadata": {
        "id": "SszVgjYnFNX9",
        "colab_type": "text"
      },
      "cell_type": "markdown",
      "source": [
        "All the audio files get converted into their respective spectrograms .WE can now easily extract features from them."
      ]
    },
    {
      "metadata": {
        "id": "piwUwgP5Eef9",
        "colab_type": "text"
      },
      "cell_type": "markdown",
      "source": [
        "## Extracting features from Spectrogram\n",
        "\n",
        "\n",
        "We will extract\n",
        "\n",
        "* Mel-frequency cepstral coefficients (MFCC)(20 in number)\n",
        "* Spectral Centroid,\n",
        "* Zero Crossing Rate\n",
        "* Chroma Frequencies\n",
        "* Spectral Roll-off."
      ]
    },
    {
      "metadata": {
        "id": "__g8tX8pDeIL",
        "colab_type": "code",
        "colab": {}
      },
      "cell_type": "code",
      "source": [
        "header = 'filename chroma_stft rmse spectral_centroid spectral_bandwidth rolloff zero_crossing_rate'\n",
        "for i in range(1, 21):\n",
        "    header += f' mfcc{i}'\n",
        "header += ' label'\n",
        "header = header.split()"
      ],
      "execution_count": 0,
      "outputs": []
    },
    {
      "metadata": {
        "id": "TBlT448pEqR9",
        "colab_type": "text"
      },
      "cell_type": "markdown",
      "source": [
        "## Writing data to csv file\n",
        "\n",
        "We write the data to a csv file "
      ]
    },
    {
      "metadata": {
        "id": "ZsSQmB0PE3Iu",
        "colab_type": "code",
        "colab": {}
      },
      "cell_type": "code",
      "source": [
        "file = open('data.csv', 'w', newline='')\n",
        "with file:\n",
        "    writer = csv.writer(file)\n",
        "    writer.writerow(header)\n",
        "genres = 'blues classical country disco hiphop jazz metal pop reggae rock'.split()\n",
        "for g in genres:\n",
        "    for filename in os.listdir(f'./MIR/genres/{g}'):\n",
        "        songname = f'./MIR/genres/{g}/{filename}'\n",
        "        y, sr = librosa.load(songname, mono=True, duration=30)\n",
        "        chroma_stft = librosa.feature.chroma_stft(y=y, sr=sr)\n",
        "        spec_cent = librosa.feature.spectral_centroid(y=y, sr=sr)\n",
        "        spec_bw = librosa.feature.spectral_bandwidth(y=y, sr=sr)\n",
        "        rolloff = librosa.feature.spectral_rolloff(y=y, sr=sr)\n",
        "        zcr = librosa.feature.zero_crossing_rate(y)\n",
        "        mfcc = librosa.feature.mfcc(y=y, sr=sr)\n",
        "        to_append = f'{filename} {np.mean(chroma_stft)} {np.mean(rmse)} {np.mean(spec_cent)} {np.mean(spec_bw)} {np.mean(rolloff)} {np.mean(zcr)}'    \n",
        "        for e in mfcc:\n",
        "            to_append += f' {np.mean(e)}'\n",
        "        to_append += f' {g}'\n",
        "        file = open('data.csv', 'a', newline='')\n",
        "        with file:\n",
        "            writer = csv.writer(file)\n",
        "            writer.writerow(to_append.split())"
      ],
      "execution_count": 0,
      "outputs": []
    },
    {
      "metadata": {
        "id": "0yfdo1cj6V7d",
        "colab_type": "text"
      },
      "cell_type": "markdown",
      "source": [
        "The data has been extracted into a data.csv file."
      ]
    },
    {
      "metadata": {
        "id": "fgeCZSKQEp1A",
        "colab_type": "text"
      },
      "cell_type": "markdown",
      "source": [
        "# Analysing the Data in Pandas"
      ]
    },
    {
      "metadata": {
        "id": "Kr5_EdpD9dyh",
        "colab_type": "code",
        "outputId": "5f89a801-d6e4-4818-8af1-baec3557bc09",
        "colab": {
          "base_uri": "https://localhost:8080/",
          "height": 253
        }
      },
      "cell_type": "code",
      "source": [
        "data = pd.read_csv('data.csv')\n",
        "data.head()"
      ],
      "execution_count": 2,
      "outputs": [
        {
          "output_type": "execute_result",
          "data": {
            "text/html": [
              "<div>\n",
              "<style scoped>\n",
              "    .dataframe tbody tr th:only-of-type {\n",
              "        vertical-align: middle;\n",
              "    }\n",
              "\n",
              "    .dataframe tbody tr th {\n",
              "        vertical-align: top;\n",
              "    }\n",
              "\n",
              "    .dataframe thead th {\n",
              "        text-align: right;\n",
              "    }\n",
              "</style>\n",
              "<table border=\"1\" class=\"dataframe\">\n",
              "  <thead>\n",
              "    <tr style=\"text-align: right;\">\n",
              "      <th></th>\n",
              "      <th>filename</th>\n",
              "      <th>chroma_stft</th>\n",
              "      <th>rmse</th>\n",
              "      <th>spectral_centroid</th>\n",
              "      <th>spectral_bandwidth</th>\n",
              "      <th>rolloff</th>\n",
              "      <th>zero_crossing_rate</th>\n",
              "      <th>mfcc1</th>\n",
              "      <th>mfcc2</th>\n",
              "      <th>mfcc3</th>\n",
              "      <th>...</th>\n",
              "      <th>mfcc12</th>\n",
              "      <th>mfcc13</th>\n",
              "      <th>mfcc14</th>\n",
              "      <th>mfcc15</th>\n",
              "      <th>mfcc16</th>\n",
              "      <th>mfcc17</th>\n",
              "      <th>mfcc18</th>\n",
              "      <th>mfcc19</th>\n",
              "      <th>mfcc20</th>\n",
              "      <th>label</th>\n",
              "    </tr>\n",
              "  </thead>\n",
              "  <tbody>\n",
              "    <tr>\n",
              "      <th>0</th>\n",
              "      <td>blues.00081.au</td>\n",
              "      <td>0.380260</td>\n",
              "      <td>0.248262</td>\n",
              "      <td>2116.942959</td>\n",
              "      <td>1956.611056</td>\n",
              "      <td>4196.107960</td>\n",
              "      <td>0.127272</td>\n",
              "      <td>-26.929785</td>\n",
              "      <td>107.334008</td>\n",
              "      <td>-46.809993</td>\n",
              "      <td>...</td>\n",
              "      <td>14.336612</td>\n",
              "      <td>-13.821769</td>\n",
              "      <td>7.562789</td>\n",
              "      <td>-6.181372</td>\n",
              "      <td>0.330165</td>\n",
              "      <td>-6.829571</td>\n",
              "      <td>0.965922</td>\n",
              "      <td>-7.570825</td>\n",
              "      <td>2.918987</td>\n",
              "      <td>blues</td>\n",
              "    </tr>\n",
              "    <tr>\n",
              "      <th>1</th>\n",
              "      <td>blues.00022.au</td>\n",
              "      <td>0.306451</td>\n",
              "      <td>0.113475</td>\n",
              "      <td>1156.070496</td>\n",
              "      <td>1497.668176</td>\n",
              "      <td>2170.053545</td>\n",
              "      <td>0.058613</td>\n",
              "      <td>-233.860772</td>\n",
              "      <td>136.170239</td>\n",
              "      <td>3.289490</td>\n",
              "      <td>...</td>\n",
              "      <td>-2.250578</td>\n",
              "      <td>3.959198</td>\n",
              "      <td>5.322555</td>\n",
              "      <td>0.812028</td>\n",
              "      <td>-1.107202</td>\n",
              "      <td>-4.556555</td>\n",
              "      <td>-2.436490</td>\n",
              "      <td>3.316913</td>\n",
              "      <td>-0.608485</td>\n",
              "      <td>blues</td>\n",
              "    </tr>\n",
              "    <tr>\n",
              "      <th>2</th>\n",
              "      <td>blues.00031.au</td>\n",
              "      <td>0.253487</td>\n",
              "      <td>0.151571</td>\n",
              "      <td>1331.073970</td>\n",
              "      <td>1973.643437</td>\n",
              "      <td>2900.174130</td>\n",
              "      <td>0.042967</td>\n",
              "      <td>-221.802549</td>\n",
              "      <td>110.843071</td>\n",
              "      <td>18.620984</td>\n",
              "      <td>...</td>\n",
              "      <td>-13.037723</td>\n",
              "      <td>-12.652228</td>\n",
              "      <td>-1.821905</td>\n",
              "      <td>-7.260097</td>\n",
              "      <td>-6.660252</td>\n",
              "      <td>-14.682694</td>\n",
              "      <td>-11.719264</td>\n",
              "      <td>-11.025216</td>\n",
              "      <td>-13.387260</td>\n",
              "      <td>blues</td>\n",
              "    </tr>\n",
              "    <tr>\n",
              "      <th>3</th>\n",
              "      <td>blues.00012.au</td>\n",
              "      <td>0.269320</td>\n",
              "      <td>0.119072</td>\n",
              "      <td>1361.045467</td>\n",
              "      <td>1567.804596</td>\n",
              "      <td>2739.625101</td>\n",
              "      <td>0.069124</td>\n",
              "      <td>-207.208080</td>\n",
              "      <td>132.799175</td>\n",
              "      <td>-15.438986</td>\n",
              "      <td>...</td>\n",
              "      <td>-0.613248</td>\n",
              "      <td>0.384877</td>\n",
              "      <td>2.605128</td>\n",
              "      <td>-5.188924</td>\n",
              "      <td>-9.527455</td>\n",
              "      <td>-9.244394</td>\n",
              "      <td>-2.848274</td>\n",
              "      <td>-1.418707</td>\n",
              "      <td>-5.932607</td>\n",
              "      <td>blues</td>\n",
              "    </tr>\n",
              "    <tr>\n",
              "      <th>4</th>\n",
              "      <td>blues.00056.au</td>\n",
              "      <td>0.391059</td>\n",
              "      <td>0.137728</td>\n",
              "      <td>1811.076084</td>\n",
              "      <td>2052.332563</td>\n",
              "      <td>3927.809582</td>\n",
              "      <td>0.075480</td>\n",
              "      <td>-145.434568</td>\n",
              "      <td>102.829023</td>\n",
              "      <td>-12.517677</td>\n",
              "      <td>...</td>\n",
              "      <td>7.457218</td>\n",
              "      <td>-10.470444</td>\n",
              "      <td>-2.360483</td>\n",
              "      <td>-6.783624</td>\n",
              "      <td>2.671134</td>\n",
              "      <td>-4.760879</td>\n",
              "      <td>-0.949005</td>\n",
              "      <td>0.024832</td>\n",
              "      <td>-2.005315</td>\n",
              "      <td>blues</td>\n",
              "    </tr>\n",
              "  </tbody>\n",
              "</table>\n",
              "<p>5 rows × 28 columns</p>\n",
              "</div>"
            ],
            "text/plain": [
              "         filename  chroma_stft      rmse  spectral_centroid  \\\n",
              "0  blues.00081.au     0.380260  0.248262        2116.942959   \n",
              "1  blues.00022.au     0.306451  0.113475        1156.070496   \n",
              "2  blues.00031.au     0.253487  0.151571        1331.073970   \n",
              "3  blues.00012.au     0.269320  0.119072        1361.045467   \n",
              "4  blues.00056.au     0.391059  0.137728        1811.076084   \n",
              "\n",
              "   spectral_bandwidth      rolloff  zero_crossing_rate       mfcc1  \\\n",
              "0         1956.611056  4196.107960            0.127272  -26.929785   \n",
              "1         1497.668176  2170.053545            0.058613 -233.860772   \n",
              "2         1973.643437  2900.174130            0.042967 -221.802549   \n",
              "3         1567.804596  2739.625101            0.069124 -207.208080   \n",
              "4         2052.332563  3927.809582            0.075480 -145.434568   \n",
              "\n",
              "        mfcc2      mfcc3  ...       mfcc12     mfcc13    mfcc14    mfcc15  \\\n",
              "0  107.334008 -46.809993  ...    14.336612 -13.821769  7.562789 -6.181372   \n",
              "1  136.170239   3.289490  ...    -2.250578   3.959198  5.322555  0.812028   \n",
              "2  110.843071  18.620984  ...   -13.037723 -12.652228 -1.821905 -7.260097   \n",
              "3  132.799175 -15.438986  ...    -0.613248   0.384877  2.605128 -5.188924   \n",
              "4  102.829023 -12.517677  ...     7.457218 -10.470444 -2.360483 -6.783624   \n",
              "\n",
              "     mfcc16     mfcc17     mfcc18     mfcc19     mfcc20  label  \n",
              "0  0.330165  -6.829571   0.965922  -7.570825   2.918987  blues  \n",
              "1 -1.107202  -4.556555  -2.436490   3.316913  -0.608485  blues  \n",
              "2 -6.660252 -14.682694 -11.719264 -11.025216 -13.387260  blues  \n",
              "3 -9.527455  -9.244394  -2.848274  -1.418707  -5.932607  blues  \n",
              "4  2.671134  -4.760879  -0.949005   0.024832  -2.005315  blues  \n",
              "\n",
              "[5 rows x 28 columns]"
            ]
          },
          "metadata": {
            "tags": []
          },
          "execution_count": 2
        }
      ]
    },
    {
      "metadata": {
        "id": "iHrDHCaR9gKR",
        "colab_type": "code",
        "outputId": "7b911659-5f9f-4aa6-bdec-18529dba2a2d",
        "colab": {
          "base_uri": "https://localhost:8080/",
          "height": 34
        }
      },
      "cell_type": "code",
      "source": [
        "data.shape"
      ],
      "execution_count": 3,
      "outputs": [
        {
          "output_type": "execute_result",
          "data": {
            "text/plain": [
              "(1000, 28)"
            ]
          },
          "metadata": {
            "tags": []
          },
          "execution_count": 3
        }
      ]
    },
    {
      "metadata": {
        "id": "veD5BgX49hZa",
        "colab_type": "code",
        "colab": {}
      },
      "cell_type": "code",
      "source": [
        "# Dropping unneccesary columns\n",
        "data = data.drop(['filename'],axis=1)"
      ],
      "execution_count": 0,
      "outputs": []
    },
    {
      "metadata": {
        "id": "Nyr0aAAsGXjZ",
        "colab_type": "text"
      },
      "cell_type": "markdown",
      "source": [
        "## Encoding the Labels"
      ]
    },
    {
      "metadata": {
        "id": "frI5HH4q-1HS",
        "colab_type": "code",
        "colab": {}
      },
      "cell_type": "code",
      "source": [
        "genre_list = data.iloc[:, -1]\n",
        "encoder = LabelEncoder()\n",
        "y = encoder.fit_transform(genre_list)"
      ],
      "execution_count": 0,
      "outputs": []
    },
    {
      "metadata": {
        "id": "_2n8a02zGfvP",
        "colab_type": "text"
      },
      "cell_type": "markdown",
      "source": [
        "## Scaling the Feature columns"
      ]
    },
    {
      "metadata": {
        "id": "uqcqn-nyAofk",
        "colab_type": "code",
        "colab": {}
      },
      "cell_type": "code",
      "source": [
        "scaler = StandardScaler()\n",
        "X = scaler.fit_transform(np.array(data.iloc[:, :-1], dtype = float))"
      ],
      "execution_count": 0,
      "outputs": []
    },
    {
      "metadata": {
        "id": "e3VZvbwpGo9R",
        "colab_type": "text"
      },
      "cell_type": "markdown",
      "source": [
        "## Dividing data into training and Testing set"
      ]
    },
    {
      "metadata": {
        "id": "F1GW3VvQA7Rj",
        "colab_type": "code",
        "colab": {}
      },
      "cell_type": "code",
      "source": [
        "X, X_test, y, y_test = train_test_split(X, y, test_size=0.2)"
      ],
      "execution_count": 0,
      "outputs": []
    },
    {
      "metadata": {
        "id": "Vp2yc5FWG04e",
        "colab_type": "text"
      },
      "cell_type": "markdown",
      "source": [
        "# Classification with Keras\n",
        "\n",
        "## Building our Network"
      ]
    },
    {
      "metadata": {
        "id": "Qj3sc2uFEUMt",
        "colab_type": "code",
        "colab": {
          "base_uri": "https://localhost:8080/",
          "height": 34
        },
        "outputId": "153f4fb7-ce80-4d3b-8271-27bbe48d35c4"
      },
      "cell_type": "code",
      "source": [
        "import keras\n",
        "from keras.layers import *\n",
        "from keras.callbacks import *\n",
        "from keras.models import Model"
      ],
      "execution_count": 8,
      "outputs": [
        {
          "output_type": "stream",
          "text": [
            "Using TensorFlow backend.\n"
          ],
          "name": "stderr"
        }
      ]
    },
    {
      "metadata": {
        "id": "SX6HEZAJFZ37",
        "colab_type": "code",
        "colab": {}
      },
      "cell_type": "code",
      "source": [
        "def make_model():\n",
        "    inp = Input(shape=(X.shape[1],))\n",
        "    x = Dense(512, activation=\"relu\")(inp)\n",
        "    x = Dense(256, activation=\"relu\")(x)\n",
        "    x = Dense(128, activation=\"relu\")(x)\n",
        "    x = Dense(64, activation=\"relu\")(x)\n",
        "    x = Dense(10, activation=\"softmax\")(x)\n",
        "    model = Model(inputs=inp, outputs=x)\n",
        "    model.compile(loss='sparse_categorical_crossentropy', optimizer='adam', metrics=['accuracy'])\n",
        "    return model"
      ],
      "execution_count": 0,
      "outputs": []
    },
    {
      "metadata": {
        "id": "t_DIevbmFqte",
        "colab_type": "code",
        "colab": {
          "base_uri": "https://localhost:8080/",
          "height": 309
        },
        "outputId": "d74cfe2c-258b-4781-9075-04b6eca56c1f"
      },
      "cell_type": "code",
      "source": [
        "from sklearn.model_selection import StratifiedKFold\n",
        "from sklearn.metrics import accuracy_score\n",
        "\n",
        "folds = StratifiedKFold(n_splits=5, shuffle=True, random_state=15)\n",
        "oof = np.zeros(len(X))\n",
        "y_preds = np.zeros((len(X_test), 10))\n",
        "\n",
        "for fold_, (trn_idx, val_idx) in enumerate(folds.split(X, y)):\n",
        "    print(\"fold n°{}\".format(fold_))\n",
        "    X_train, y_train = (X[trn_idx], y[trn_idx])\n",
        "    X_valid, y_valid = (X[val_idx], y[val_idx])\n",
        "    \n",
        "    clf = make_model()\n",
        "    chk = ModelCheckpoint(\"best_weight.wt\", monitor='val_acc', mode = 'max', save_best_only = True, verbose = 0)\n",
        "    clf.fit(X_train, y_train, validation_data = [X_valid, y_valid],  batch_size=64, epochs=45, verbose=0, callbacks = [chk])\n",
        "    clf.load_weights(\"best_weight.wt\")\n",
        "    oof[val_idx] = np.argmax(clf.predict(X_valid), axis=1)\n",
        "    score = accuracy_score(oof[val_idx], y_valid)\n",
        "    print(f'Scored {score:.3f} on validation data')\n",
        "    \n",
        "    y_preds += clf.predict(X_test)"
      ],
      "execution_count": 10,
      "outputs": [
        {
          "output_type": "stream",
          "text": [
            "fold n°0\n",
            "WARNING:tensorflow:From /usr/local/lib/python3.6/dist-packages/tensorflow/python/framework/op_def_library.py:263: colocate_with (from tensorflow.python.framework.ops) is deprecated and will be removed in a future version.\n",
            "Instructions for updating:\n",
            "Colocations handled automatically by placer.\n",
            "WARNING:tensorflow:From /usr/local/lib/python3.6/dist-packages/tensorflow/python/ops/math_ops.py:3066: to_int32 (from tensorflow.python.ops.math_ops) is deprecated and will be removed in a future version.\n",
            "Instructions for updating:\n",
            "Use tf.cast instead.\n",
            "Scored 0.669 on validation data\n",
            "fold n°1\n",
            "Scored 0.728 on validation data\n",
            "fold n°2\n",
            "Scored 0.713 on validation data\n",
            "fold n°3\n",
            "Scored 0.652 on validation data\n",
            "fold n°4\n",
            "Scored 0.650 on validation data\n"
          ],
          "name": "stdout"
        }
      ]
    },
    {
      "metadata": {
        "id": "N-zPRg18IpEs",
        "colab_type": "code",
        "colab": {
          "base_uri": "https://localhost:8080/",
          "height": 34
        },
        "outputId": "dfef0180-a8d5-4210-9b5e-0052ca337744"
      },
      "cell_type": "code",
      "source": [
        "print(f'Local CV is {accuracy_score(oof, y): .4f}')"
      ],
      "execution_count": 11,
      "outputs": [
        {
          "output_type": "stream",
          "text": [
            "Local CV is  0.6825\n"
          ],
          "name": "stdout"
        }
      ]
    },
    {
      "metadata": {
        "id": "UlAgyXWqIwzk",
        "colab_type": "code",
        "colab": {
          "base_uri": "https://localhost:8080/",
          "height": 483
        },
        "outputId": "4fd16555-4dd7-44f3-d0cb-558b2cf819d1"
      },
      "cell_type": "code",
      "source": [
        "from sklearn.metrics import confusion_matrix\n",
        "import seaborn as sns\n",
        "\n",
        "cm = confusion_matrix(y, oof)\n",
        "plt.figure(figsize=(11,8))\n",
        "sns.heatmap(cm, annot=True, cmap=\"cubehelix\", fmt='g')\n",
        "plt.show()"
      ],
      "execution_count": 12,
      "outputs": [
        {
          "output_type": "display_data",
          "data": {
            "image/png": "[encoded data removed]",
            "text/plain": [
              "<Figure size 792x576 with 2 Axes>"
            ]
          },
          "metadata": {
            "tags": []
          }
        }
      ]
    },
    {
      "metadata": {
        "id": "r3hb8s1l4rBA",
        "colab_type": "text"
      },
      "cell_type": "markdown",
      "source": [
        "## Predictions on Test Data"
      ]
    },
    {
      "metadata": {
        "id": "sls4AZWAJCn1",
        "colab_type": "code",
        "colab": {}
      },
      "cell_type": "code",
      "source": [
        "y_preds = np.argmax(y_preds, axis=1)"
      ],
      "execution_count": 0,
      "outputs": []
    },
    {
      "metadata": {
        "id": "2onMhGLuJD-Y",
        "colab_type": "code",
        "colab": {}
      },
      "cell_type": "code",
      "source": [
        "y_preds = encoder.inverse_transform(y_preds)"
      ],
      "execution_count": 0,
      "outputs": []
    },
    {
      "metadata": {
        "id": "gudBAhIXJIi2",
        "colab_type": "code",
        "colab": {
          "base_uri": "https://localhost:8080/",
          "height": 34
        },
        "outputId": "f879ba58-aa8e-434f-e647-840d62610d00"
      },
      "cell_type": "code",
      "source": [
        "print(f'Test Accuracy: {accuracy_score(y_test, encoder.transform(y_preds)): .4f}')"
      ],
      "execution_count": 21,
      "outputs": [
        {
          "output_type": "stream",
          "text": [
            "Test Accuracy:  0.7100\n"
          ],
          "name": "stdout"
        }
      ]
    },
    {
      "metadata": {
        "id": "NMRJvbFeLHoc",
        "colab_type": "code",
        "colab": {
          "base_uri": "https://localhost:8080/",
          "height": 498
        },
        "outputId": "a7f4b191-d22d-4f50-f39e-6866745576d9"
      },
      "cell_type": "code",
      "source": [
        "cm = confusion_matrix(y_test, encoder.transform(y_preds))\n",
        "plt.figure(figsize=(11,8))\n",
        "sns.heatmap(cm, annot=True, cmap=\"cubehelix\", fmt='g')\n",
        "plt.title('Test - Confusion Matrix')\n",
        "plt.show()"
      ],
      "execution_count": 22,
      "outputs": [
        {
          "output_type": "display_data",
          "data": {
            "image/png": "[encoded data removed]",
            "text/plain": [
              "<Figure size 792x576 with 2 Axes>"
            ]
          },
          "metadata": {
            "tags": []
          }
        }
      ]
    }
  ]
}